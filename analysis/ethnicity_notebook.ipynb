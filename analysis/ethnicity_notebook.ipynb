{
 "cells": [
  {
   "cell_type": "code",
   "execution_count": 1,
   "metadata": {},
   "outputs": [],
   "source": [
    "%load_ext autoreload\n",
    "%autoreload 2\n",
    "import lib"
   ]
  },
  {
   "cell_type": "code",
   "execution_count": 2,
   "metadata": {
    "scrolled": true
   },
   "outputs": [],
   "source": [
    "dataset = lib.get_dataset()"
   ]
  },
  {
   "cell_type": "markdown",
   "metadata": {},
   "source": [
    "# Defining ethnicity in OpenSAFELY\n",
    "Ethnicity is most commonly defined using primary care data, but can also be defined using secondary care data. These can then be combined as needed. It might be advantageous to supplement the primary care definition with secondary care data because primary care alone tends to lead to 20-30% of people with a missing ethnicity. **However**, it is important to carefully consider the implications of this for your study. For example, the remaining people with a missing ethnicity are likely to be extremely unrepresentative of the population as a whole, in that they are much less likely to have frequently visited a GP or hospital.\n",
    "\n",
    "## Codelists used\n",
    "\n",
    "The ethnicity variable uses only [this codelist](https://www.opencodelists.org/codelist/opensafely/ethnicity-snomed-0removed/2e641f61/) for defining ethnicity in primary care. This was determined to be the best codelist to use in work published in [this paper](https://www.medrxiv.org/content/10.1101/2023.11.21.23298690v1). The codelist can be added to your study by adding this to your `codelists.txt` file:\n",
    "```\n",
    "opensafely/ethnicity-snomed-0removed/2e641f61\n",
    "```\n",
    "As described in the [codelist description](https://www.opencodelists.org/codelist/opensafely/ethnicity-snomed-0removed/2e641f61/), it cotains 2 levels of categorisation, one containing 5 categories, and another containing 16 categories.\n",
    "\n",
    "Depending on what level of detail your study requires, you can use the 5 level categorisation by importing the codelist into to your dataset defintion like this:\n",
    "```\n",
    "ethnicity_6_category_codelist = codelist_from_csv(\n",
    "    \"codelists/opensafely-ethnicity-snomed-0removed.csv\",\n",
    "    column=\"snomedcode\",\n",
    "    category_column=\"Grouping_6\",\n",
    ")\n",
    "```\n",
    "...or the 16 category like this:\n",
    "```\n",
    "ethnicity_16_category_codelist = codelist_from_csv(\n",
    "    \"codelists/opensafely-ethnicity-snomed-0removed.csv\",\n",
    "    column=\"snomedcode\",\n",
    "    category_column=\"Grouping_16\",\n",
    ")\n",
    "```"
   ]
  },
  {
   "cell_type": "code",
   "execution_count": 3,
   "metadata": {
    "scrolled": true
   },
   "outputs": [
    {
     "data": {
      "text/markdown": [
       "\n",
       "## 5 Category ethnicity\n",
       "**This text describes the variable**\n",
       "### It is defined using the following ehrQL:\n",
       "```\n",
       "ethnicity_6_category = (\n",
       "    clinical_events.where(\n",
       "        clinical_events.snomedct_code.is_in(ethnicity_6_category_codelist)\n",
       "    )\n",
       "    .sort_by(clinical_events.date)\n",
       "    .last_for_patient()\n",
       "    .snomedct_code.to_category(ethnicity_6_category_codelist)\n",
       ")\n",
       "```\n"
      ]
     },
     "metadata": {},
     "output_type": "display_data"
    },
    {
     "data": {
      "text/html": [
       "<div><style>\n",
       ".dataframe > thead > tr,\n",
       ".dataframe > tbody > tr {\n",
       "  text-align: right;\n",
       "  white-space: pre-wrap;\n",
       "}\n",
       "</style>\n",
       "<small>shape: (6, 2)</small><table border=\"1\" class=\"dataframe\"><thead><tr><th>ethnicity_6_category</th><th>count</th></tr><tr><td>cat</td><td>u32</td></tr></thead><tbody><tr><td>null</td><td>61</td></tr><tr><td>&quot;5&quot;</td><td>244</td></tr><tr><td>&quot;4&quot;</td><td>171</td></tr><tr><td>&quot;3&quot;</td><td>170</td></tr><tr><td>&quot;2&quot;</td><td>74</td></tr><tr><td>&quot;1&quot;</td><td>280</td></tr></tbody></table></div>"
      ],
      "text/plain": [
       "shape: (6, 2)\n",
       "┌──────────────────────┬───────┐\n",
       "│ ethnicity_6_category ┆ count │\n",
       "│ ---                  ┆ ---   │\n",
       "│ cat                  ┆ u32   │\n",
       "╞══════════════════════╪═══════╡\n",
       "│ null                 ┆ 61    │\n",
       "│ 5                    ┆ 244   │\n",
       "│ 4                    ┆ 171   │\n",
       "│ 3                    ┆ 170   │\n",
       "│ 2                    ┆ 74    │\n",
       "│ 1                    ┆ 280   │\n",
       "└──────────────────────┴───────┘"
      ]
     },
     "metadata": {},
     "output_type": "display_data"
    },
    {
     "data": {
      "text/markdown": [
       "\n",
       "## 16 Category ethnicity\n",
       "**This text describes the variable**\n",
       "### It is defined using the following ehrQL:\n",
       "```\n",
       "ethnicity_16_category = (\n",
       "    clinical_events.where(\n",
       "        clinical_events.snomedct_code.is_in(ethnicity_16_category_codelist)\n",
       "    )\n",
       "    .sort_by(clinical_events.date)\n",
       "    .last_for_patient()\n",
       "    .snomedct_code.to_category(ethnicity_16_category_codelist)\n",
       ")\n",
       "```\n"
      ]
     },
     "metadata": {},
     "output_type": "display_data"
    },
    {
     "data": {
      "text/html": [
       "<div><style>\n",
       ".dataframe > thead > tr,\n",
       ".dataframe > tbody > tr {\n",
       "  text-align: right;\n",
       "  white-space: pre-wrap;\n",
       "}\n",
       "</style>\n",
       "<small>shape: (17, 2)</small><table border=\"1\" class=\"dataframe\"><thead><tr><th>ethnicity_16_category</th><th>count</th></tr><tr><td>cat</td><td>u32</td></tr></thead><tbody><tr><td>null</td><td>61</td></tr><tr><td>&quot;16&quot;</td><td>231</td></tr><tr><td>&quot;15&quot;</td><td>13</td></tr><tr><td>&quot;14&quot;</td><td>46</td></tr><tr><td>&quot;13&quot;</td><td>88</td></tr><tr><td>&quot;12&quot;</td><td>37</td></tr><tr><td>&quot;11&quot;</td><td>114</td></tr><tr><td>&quot;10&quot;</td><td>15</td></tr><tr><td>&quot;9&quot;</td><td>14</td></tr><tr><td>&quot;8&quot;</td><td>27</td></tr><tr><td>&quot;7&quot;</td><td>45</td></tr><tr><td>&quot;6&quot;</td><td>8</td></tr><tr><td>&quot;5&quot;</td><td>12</td></tr><tr><td>&quot;4&quot;</td><td>9</td></tr><tr><td>&quot;3&quot;</td><td>201</td></tr><tr><td>&quot;2&quot;</td><td>25</td></tr><tr><td>&quot;1&quot;</td><td>54</td></tr></tbody></table></div>"
      ],
      "text/plain": [
       "shape: (17, 2)\n",
       "┌───────────────────────┬───────┐\n",
       "│ ethnicity_16_category ┆ count │\n",
       "│ ---                   ┆ ---   │\n",
       "│ cat                   ┆ u32   │\n",
       "╞═══════════════════════╪═══════╡\n",
       "│ null                  ┆ 61    │\n",
       "│ 16                    ┆ 231   │\n",
       "│ 15                    ┆ 13    │\n",
       "│ 14                    ┆ 46    │\n",
       "│ 13                    ┆ 88    │\n",
       "│ 12                    ┆ 37    │\n",
       "│ 11                    ┆ 114   │\n",
       "│ 10                    ┆ 15    │\n",
       "│ 9                     ┆ 14    │\n",
       "│ 8                     ┆ 27    │\n",
       "│ 7                     ┆ 45    │\n",
       "│ 6                     ┆ 8     │\n",
       "│ 5                     ┆ 12    │\n",
       "│ 4                     ┆ 9     │\n",
       "│ 3                     ┆ 201   │\n",
       "│ 2                     ┆ 25    │\n",
       "│ 1                     ┆ 54    │\n",
       "└───────────────────────┴───────┘"
      ]
     },
     "metadata": {},
     "output_type": "display_data"
    },
    {
     "data": {
      "text/markdown": [
       "\n",
       "## Ethnicity from SUS\n",
       "**This text describes the variable**\n",
       "\n",
       "### It is defined using the following ehrQL:\n",
       "```\n",
       "ethnicity_sus = ethnicity_from_sus.code\n",
       "```\n"
      ]
     },
     "metadata": {},
     "output_type": "display_data"
    },
    {
     "data": {
      "text/html": [
       "<div><style>\n",
       ".dataframe > thead > tr,\n",
       ".dataframe > tbody > tr {\n",
       "  text-align: right;\n",
       "  white-space: pre-wrap;\n",
       "}\n",
       "</style>\n",
       "<small>shape: (17, 2)</small><table border=\"1\" class=\"dataframe\"><thead><tr><th>ethnicity_sus</th><th>count</th></tr><tr><td>cat</td><td>u32</td></tr></thead><tbody><tr><td>null</td><td>504</td></tr><tr><td>&quot;A&quot;</td><td>23</td></tr><tr><td>&quot;B&quot;</td><td>37</td></tr><tr><td>&quot;C&quot;</td><td>21</td></tr><tr><td>&quot;D&quot;</td><td>30</td></tr><tr><td>&quot;E&quot;</td><td>32</td></tr><tr><td>&quot;F&quot;</td><td>31</td></tr><tr><td>&quot;G&quot;</td><td>30</td></tr><tr><td>&quot;H&quot;</td><td>29</td></tr><tr><td>&quot;J&quot;</td><td>44</td></tr><tr><td>&quot;K&quot;</td><td>25</td></tr><tr><td>&quot;L&quot;</td><td>31</td></tr><tr><td>&quot;M&quot;</td><td>36</td></tr><tr><td>&quot;N&quot;</td><td>31</td></tr><tr><td>&quot;P&quot;</td><td>28</td></tr><tr><td>&quot;R&quot;</td><td>40</td></tr><tr><td>&quot;S&quot;</td><td>28</td></tr></tbody></table></div>"
      ],
      "text/plain": [
       "shape: (17, 2)\n",
       "┌───────────────┬───────┐\n",
       "│ ethnicity_sus ┆ count │\n",
       "│ ---           ┆ ---   │\n",
       "│ cat           ┆ u32   │\n",
       "╞═══════════════╪═══════╡\n",
       "│ null          ┆ 504   │\n",
       "│ A             ┆ 23    │\n",
       "│ B             ┆ 37    │\n",
       "│ C             ┆ 21    │\n",
       "│ D             ┆ 30    │\n",
       "│ E             ┆ 32    │\n",
       "│ F             ┆ 31    │\n",
       "│ G             ┆ 30    │\n",
       "│ H             ┆ 29    │\n",
       "│ J             ┆ 44    │\n",
       "│ K             ┆ 25    │\n",
       "│ L             ┆ 31    │\n",
       "│ M             ┆ 36    │\n",
       "│ N             ┆ 31    │\n",
       "│ P             ┆ 28    │\n",
       "│ R             ┆ 40    │\n",
       "│ S             ┆ 28    │\n",
       "└───────────────┴───────┘"
      ]
     },
     "metadata": {},
     "output_type": "display_data"
    },
    {
     "data": {
      "text/markdown": [
       "\n",
       "## 6 Category ethnicity combined with SUS\n",
       "**This text describes the variable**\n",
       "### It is defined using the following ehrQL (which includes some variables defined above):\n",
       "```\n",
       "dataset.ethnicity_gp_and_sus_5_category = case(\n",
       "    when(\n",
       "        (ethnicity_6_category == \"1\")\n",
       "        | ((ethnicity_6_category.is_null()) & (ethnicity_sus.is_in([\"A\", \"B\", \"C\"])))\n",
       "    ).then(\"White\"),\n",
       "    when(\n",
       "        (ethnicity_6_category == \"2\")\n",
       "        | (\n",
       "            (ethnicity_6_category.is_null())\n",
       "            & (ethnicity_sus.is_in([\"D\", \"E\", \"F\", \"G\"]))\n",
       "        )\n",
       "    ).then(\"Mixed\"),\n",
       "    when(\n",
       "        (ethnicity_6_category == \"3\")\n",
       "        | (\n",
       "            (ethnicity_6_category.is_null())\n",
       "            & (ethnicity_sus.is_in([\"H\", \"J\", \"K\", \"L\"]))\n",
       "        )\n",
       "    ).then(\"Asian or Asian British\"),\n",
       "    when(\n",
       "        (ethnicity_6_category == \"4\")\n",
       "        | ((ethnicity_6_category.is_null()) & (ethnicity_sus.is_in([\"M\", \"N\", \"P\"])))\n",
       "    ).then(\"Black or Black British\"),\n",
       "    when(\n",
       "        (ethnicity_6_category == \"5\")\n",
       "        | ((ethnicity_6_category.is_null()) & (ethnicity_sus.is_in([\"R\", \"S\"])))\n",
       "    ).then(\"Chinese or Other Ethnic Groups\"),\n",
       "    otherwise=\"Missing\",\n",
       ")\n",
       "```\n"
      ]
     },
     "metadata": {},
     "output_type": "display_data"
    },
    {
     "data": {
      "text/html": [
       "<div><style>\n",
       ".dataframe > thead > tr,\n",
       ".dataframe > tbody > tr {\n",
       "  text-align: right;\n",
       "  white-space: pre-wrap;\n",
       "}\n",
       "</style>\n",
       "<small>shape: (6, 2)</small><table border=\"1\" class=\"dataframe\"><thead><tr><th>ethnicity_gp_and_sus_5_category</th><th>count</th></tr><tr><td>cat</td><td>u32</td></tr></thead><tbody><tr><td>&quot;White&quot;</td><td>285</td></tr><tr><td>&quot;Mixed&quot;</td><td>77</td></tr><tr><td>&quot;Asian or Asian British&quot;</td><td>177</td></tr><tr><td>&quot;Black or Black British&quot;</td><td>178</td></tr><tr><td>&quot;Chinese or Other Ethnic Groups&quot;</td><td>250</td></tr><tr><td>&quot;Missing&quot;</td><td>33</td></tr></tbody></table></div>"
      ],
      "text/plain": [
       "shape: (6, 2)\n",
       "┌─────────────────────────────────┬───────┐\n",
       "│ ethnicity_gp_and_sus_5_category ┆ count │\n",
       "│ ---                             ┆ ---   │\n",
       "│ cat                             ┆ u32   │\n",
       "╞═════════════════════════════════╪═══════╡\n",
       "│ White                           ┆ 285   │\n",
       "│ Mixed                           ┆ 77    │\n",
       "│ Asian or Asian British          ┆ 177   │\n",
       "│ Black or Black British          ┆ 178   │\n",
       "│ Chinese or Other Ethnic Groups  ┆ 250   │\n",
       "│ Missing                         ┆ 33    │\n",
       "└─────────────────────────────────┴───────┘"
      ]
     },
     "metadata": {},
     "output_type": "display_data"
    },
    {
     "data": {
      "text/markdown": [
       "\n",
       "## 6 Category ethnicity combined with SUS\n",
       "**This text describes the variable**\n",
       "### It is defined using the following ehrQL (which includes some variables defined above):\n",
       "```\n",
       "dataset.ethnicity_gp_and_sus_16_category = case(\n",
       "    when(\n",
       "        (ethnicity_16_category == \"1\")\n",
       "        | ((ethnicity_16_category.is_null()) & (ethnicity_sus.is_in([\"A\"])))\n",
       "    ).then(\"White - British\"),\n",
       "    when(\n",
       "        (ethnicity_16_category == \"2\")\n",
       "        | ((ethnicity_16_category.is_null()) & (ethnicity_sus.is_in([\"B\"])))\n",
       "    ).then(\"White - Irish\"),\n",
       "    when(\n",
       "        (ethnicity_16_category == \"3\")\n",
       "        | ((ethnicity_16_category.is_null()) & (ethnicity_sus.is_in([\"C\"])))\n",
       "    ).then(\"White - Any other White background\"),\n",
       "    when(\n",
       "        (ethnicity_16_category == \"4\")\n",
       "        | ((ethnicity_16_category.is_null()) & (ethnicity_sus.is_in([\"D\"])))\n",
       "    ).then(\"Mixed - White and Black Caribbean\"),\n",
       "    when(\n",
       "        (ethnicity_16_category == \"5\")\n",
       "        | ((ethnicity_16_category.is_null()) & (ethnicity_sus.is_in([\"E\"])))\n",
       "    ).then(\"Mixed - White and Black African\"),\n",
       "    when(\n",
       "        (ethnicity_16_category == \"6\")\n",
       "        | ((ethnicity_16_category.is_null()) & (ethnicity_sus.is_in([\"F\"])))\n",
       "    ).then(\"Mixed - White and Asian\"),\n",
       "    when(\n",
       "        (ethnicity_16_category == \"7\")\n",
       "        | ((ethnicity_16_category.is_null()) & (ethnicity_sus.is_in([\"G\"])))\n",
       "    ).then(\"Mixed - Any other mixed background\"),\n",
       "    when(\n",
       "        (ethnicity_16_category == \"8\")\n",
       "        | ((ethnicity_16_category.is_null()) & (ethnicity_sus.is_in([\"H\"])))\n",
       "    ).then(\"Asian or Asian British - Indian\"),\n",
       "    when(\n",
       "        (ethnicity_16_category == \"9\")\n",
       "        | ((ethnicity_16_category.is_null()) & (ethnicity_sus.is_in([\"J\"])))\n",
       "    ).then(\"Asian or Asian British - Pakistani\"),\n",
       "    when(\n",
       "        (ethnicity_16_category == \"10\")\n",
       "        | ((ethnicity_16_category.is_null()) & (ethnicity_sus.is_in([\"K\"])))\n",
       "    ).then(\"Asian or Asian British - Bangladeshi\"),\n",
       "    when(\n",
       "        (ethnicity_16_category == \"11\")\n",
       "        | ((ethnicity_16_category.is_null()) & (ethnicity_sus.is_in([\"L\"])))\n",
       "    ).then(\"Asian or Asian British - Any other Asian background\"),\n",
       "    when(\n",
       "        (ethnicity_16_category == \"12\")\n",
       "        | ((ethnicity_16_category.is_null()) & (ethnicity_sus.is_in([\"M\"])))\n",
       "    ).then(\"Black or Black British - Caribbean\"),\n",
       "    when(\n",
       "        (ethnicity_16_category == \"13\")\n",
       "        | ((ethnicity_16_category.is_null()) & (ethnicity_sus.is_in([\"N\"])))\n",
       "    ).then(\"Black or Black British - African\"),\n",
       "    when(\n",
       "        (ethnicity_16_category == \"14\")\n",
       "        | ((ethnicity_16_category.is_null()) & (ethnicity_sus.is_in([\"P\"])))\n",
       "    ).then(\"Black or Black British - Any other Black background\"),\n",
       "    when(\n",
       "        (ethnicity_16_category == \"15\")\n",
       "        | ((ethnicity_16_category.is_null()) & (ethnicity_sus.is_in([\"R\"])))\n",
       "    ).then(\"Other Ethnic Groups - Chinese\"),\n",
       "    when(\n",
       "        (ethnicity_16_category == \"16\")\n",
       "        | ((ethnicity_16_category.is_null()) & (ethnicity_sus.is_in([\"S\"])))\n",
       "    ).then(\"Other Ethnic Groups - Any other ethnic group\"),\n",
       "    otherwise=\"Missing\",\n",
       ")\n",
       "```\n"
      ]
     },
     "metadata": {},
     "output_type": "display_data"
    },
    {
     "data": {
      "text/html": [
       "<div><style>\n",
       ".dataframe > thead > tr,\n",
       ".dataframe > tbody > tr {\n",
       "  text-align: right;\n",
       "  white-space: pre-wrap;\n",
       "}\n",
       "</style>\n",
       "<small>shape: (17, 2)</small><table border=\"1\" class=\"dataframe\"><thead><tr><th>ethnicity_gp_and_sus_16_category</th><th>count</th></tr><tr><td>cat</td><td>u32</td></tr></thead><tbody><tr><td>&quot;White - British&quot;</td><td>55</td></tr><tr><td>&quot;White - Irish&quot;</td><td>29</td></tr><tr><td>&quot;White - Any other White background&quot;</td><td>201</td></tr><tr><td>&quot;Mixed - White and Black Caribbean&quot;</td><td>10</td></tr><tr><td>&quot;Mixed - White and Black African&quot;</td><td>12</td></tr><tr><td>&quot;Mixed - White and Asian&quot;</td><td>8</td></tr><tr><td>&quot;Mixed - Any other mixed background&quot;</td><td>47</td></tr><tr><td>&quot;Asian or Asian British - Indian&quot;</td><td>32</td></tr><tr><td>&quot;Asian or Asian British - Pakistani&quot;</td><td>16</td></tr><tr><td>&quot;Asian or Asian British - Bangladeshi&quot;</td><td>15</td></tr><tr><td>&quot;Asian or Asian British - Any other Asian background&quot;</td><td>114</td></tr><tr><td>&quot;Black or Black British - Caribbean&quot;</td><td>38</td></tr><tr><td>&quot;Black or Black British - African&quot;</td><td>90</td></tr><tr><td>&quot;Black or Black British - Any other Black background&quot;</td><td>50</td></tr><tr><td>&quot;Other Ethnic Groups - Chinese&quot;</td><td>17</td></tr><tr><td>&quot;Other Ethnic Groups - Any other ethnic group&quot;</td><td>233</td></tr><tr><td>&quot;Missing&quot;</td><td>33</td></tr></tbody></table></div>"
      ],
      "text/plain": [
       "shape: (17, 2)\n",
       "┌─────────────────────────────────────────────────────┬───────┐\n",
       "│ ethnicity_gp_and_sus_16_category                    ┆ count │\n",
       "│ ---                                                 ┆ ---   │\n",
       "│ cat                                                 ┆ u32   │\n",
       "╞═════════════════════════════════════════════════════╪═══════╡\n",
       "│ White - British                                     ┆ 55    │\n",
       "│ White - Irish                                       ┆ 29    │\n",
       "│ White - Any other White background                  ┆ 201   │\n",
       "│ Mixed - White and Black Caribbean                   ┆ 10    │\n",
       "│ Mixed - White and Black African                     ┆ 12    │\n",
       "│ Mixed - White and Asian                             ┆ 8     │\n",
       "│ Mixed - Any other mixed background                  ┆ 47    │\n",
       "│ Asian or Asian British - Indian                     ┆ 32    │\n",
       "│ Asian or Asian British - Pakistani                  ┆ 16    │\n",
       "│ Asian or Asian British - Bangladeshi                ┆ 15    │\n",
       "│ Asian or Asian British - Any other Asian background ┆ 114   │\n",
       "│ Black or Black British - Caribbean                  ┆ 38    │\n",
       "│ Black or Black British - African                    ┆ 90    │\n",
       "│ Black or Black British - Any other Black background ┆ 50    │\n",
       "│ Other Ethnic Groups - Chinese                       ┆ 17    │\n",
       "│ Other Ethnic Groups - Any other ethnic group        ┆ 233   │\n",
       "│ Missing                                             ┆ 33    │\n",
       "└─────────────────────────────────────────────────────┴───────┘"
      ]
     },
     "metadata": {},
     "output_type": "display_data"
    }
   ],
   "source": [
    "lib.count_by_category(dataset)"
   ]
  },
  {
   "cell_type": "code",
   "execution_count": 4,
   "metadata": {},
   "outputs": [
    {
     "data": {
      "text/markdown": [
       "## Comparing ethnicity_6_category with ethnicity_16_category"
      ]
     },
     "metadata": {},
     "output_type": "display_data"
    },
    {
     "data": {
      "text/html": [
       "<div><style>\n",
       ".dataframe > thead > tr,\n",
       ".dataframe > tbody > tr {\n",
       "  text-align: right;\n",
       "  white-space: pre-wrap;\n",
       "}\n",
       "</style>\n",
       "<small>shape: (6, 18)</small><table border=\"1\" class=\"dataframe\"><thead><tr><th>ethnicity_6_category</th><th>16</th><th>3</th><th>15</th><th>null</th><th>11</th><th>13</th><th>14</th><th>7</th><th>5</th><th>12</th><th>8</th><th>2</th><th>1</th><th>10</th><th>4</th><th>9</th><th>6</th></tr><tr><td>cat</td><td>i32</td><td>i32</td><td>i32</td><td>i32</td><td>i32</td><td>i32</td><td>i32</td><td>i32</td><td>i32</td><td>i32</td><td>i32</td><td>i32</td><td>i32</td><td>i32</td><td>i32</td><td>i32</td><td>i32</td></tr></thead><tbody><tr><td>&quot;5&quot;</td><td>231</td><td>null</td><td>13</td><td>null</td><td>null</td><td>null</td><td>null</td><td>null</td><td>null</td><td>null</td><td>null</td><td>null</td><td>null</td><td>null</td><td>null</td><td>null</td><td>null</td></tr><tr><td>&quot;1&quot;</td><td>null</td><td>201</td><td>null</td><td>null</td><td>null</td><td>null</td><td>null</td><td>null</td><td>null</td><td>null</td><td>null</td><td>25</td><td>54</td><td>null</td><td>null</td><td>null</td><td>null</td></tr><tr><td>null</td><td>null</td><td>null</td><td>null</td><td>61</td><td>null</td><td>null</td><td>null</td><td>null</td><td>null</td><td>null</td><td>null</td><td>null</td><td>null</td><td>null</td><td>null</td><td>null</td><td>null</td></tr><tr><td>&quot;3&quot;</td><td>null</td><td>null</td><td>null</td><td>null</td><td>114</td><td>null</td><td>null</td><td>null</td><td>null</td><td>null</td><td>27</td><td>null</td><td>null</td><td>15</td><td>null</td><td>14</td><td>null</td></tr><tr><td>&quot;4&quot;</td><td>null</td><td>null</td><td>null</td><td>null</td><td>null</td><td>88</td><td>46</td><td>null</td><td>null</td><td>37</td><td>null</td><td>null</td><td>null</td><td>null</td><td>null</td><td>null</td><td>null</td></tr><tr><td>&quot;2&quot;</td><td>null</td><td>null</td><td>null</td><td>null</td><td>null</td><td>null</td><td>null</td><td>45</td><td>12</td><td>null</td><td>null</td><td>null</td><td>null</td><td>null</td><td>9</td><td>null</td><td>8</td></tr></tbody></table></div>"
      ],
      "text/plain": [
       "shape: (6, 18)\n",
       "┌──────────────────────┬──────┬──────┬──────┬───┬──────┬──────┬──────┬──────┐\n",
       "│ ethnicity_6_category ┆ 16   ┆ 3    ┆ 15   ┆ … ┆ 10   ┆ 4    ┆ 9    ┆ 6    │\n",
       "│ ---                  ┆ ---  ┆ ---  ┆ ---  ┆   ┆ ---  ┆ ---  ┆ ---  ┆ ---  │\n",
       "│ cat                  ┆ i32  ┆ i32  ┆ i32  ┆   ┆ i32  ┆ i32  ┆ i32  ┆ i32  │\n",
       "╞══════════════════════╪══════╪══════╪══════╪═══╪══════╪══════╪══════╪══════╡\n",
       "│ 5                    ┆ 231  ┆ null ┆ 13   ┆ … ┆ null ┆ null ┆ null ┆ null │\n",
       "│ 1                    ┆ null ┆ 201  ┆ null ┆ … ┆ null ┆ null ┆ null ┆ null │\n",
       "│ null                 ┆ null ┆ null ┆ null ┆ … ┆ null ┆ null ┆ null ┆ null │\n",
       "│ 3                    ┆ null ┆ null ┆ null ┆ … ┆ 15   ┆ null ┆ 14   ┆ null │\n",
       "│ 4                    ┆ null ┆ null ┆ null ┆ … ┆ null ┆ null ┆ null ┆ null │\n",
       "│ 2                    ┆ null ┆ null ┆ null ┆ … ┆ null ┆ 9    ┆ null ┆ 8    │\n",
       "└──────────────────────┴──────┴──────┴──────┴───┴──────┴──────┴──────┴──────┘"
      ]
     },
     "metadata": {},
     "output_type": "display_data"
    },
    {
     "data": {
      "text/markdown": [
       "## Comparing ethnicity_6_category with ethnicity_sus"
      ]
     },
     "metadata": {},
     "output_type": "display_data"
    },
    {
     "data": {
      "text/html": [
       "<div><style>\n",
       ".dataframe > thead > tr,\n",
       ".dataframe > tbody > tr {\n",
       "  text-align: right;\n",
       "  white-space: pre-wrap;\n",
       "}\n",
       "</style>\n",
       "<small>shape: (6, 18)</small><table border=\"1\" class=\"dataframe\"><thead><tr><th>ethnicity_6_category</th><th>null</th><th>J</th><th>A</th><th>D</th><th>M</th><th>F</th><th>E</th><th>B</th><th>N</th><th>R</th><th>G</th><th>C</th><th>K</th><th>H</th><th>S</th><th>L</th><th>P</th></tr><tr><td>cat</td><td>i32</td><td>i32</td><td>i32</td><td>i32</td><td>i32</td><td>i32</td><td>i32</td><td>i32</td><td>i32</td><td>i32</td><td>i32</td><td>i32</td><td>i32</td><td>i32</td><td>i32</td><td>i32</td><td>i32</td></tr></thead><tbody><tr><td>&quot;5&quot;</td><td>129</td><td>7</td><td>3</td><td>6</td><td>9</td><td>4</td><td>8</td><td>7</td><td>6</td><td>11</td><td>9</td><td>6</td><td>6</td><td>9</td><td>12</td><td>6</td><td>6</td></tr><tr><td>&quot;1&quot;</td><td>141</td><td>13</td><td>8</td><td>5</td><td>10</td><td>10</td><td>15</td><td>8</td><td>10</td><td>13</td><td>11</td><td>5</td><td>4</td><td>5</td><td>7</td><td>8</td><td>7</td></tr><tr><td>null</td><td>33</td><td>2</td><td>1</td><td>1</td><td>1</td><td>null</td><td>null</td><td>4</td><td>2</td><td>4</td><td>2</td><td>null</td><td>null</td><td>5</td><td>2</td><td>null</td><td>4</td></tr><tr><td>&quot;3&quot;</td><td>79</td><td>9</td><td>7</td><td>10</td><td>6</td><td>4</td><td>4</td><td>6</td><td>5</td><td>6</td><td>3</td><td>3</td><td>6</td><td>4</td><td>4</td><td>10</td><td>4</td></tr><tr><td>&quot;4&quot;</td><td>86</td><td>8</td><td>2</td><td>8</td><td>10</td><td>9</td><td>3</td><td>10</td><td>7</td><td>3</td><td>1</td><td>7</td><td>6</td><td>3</td><td>2</td><td>3</td><td>3</td></tr><tr><td>&quot;2&quot;</td><td>36</td><td>5</td><td>2</td><td>null</td><td>null</td><td>4</td><td>2</td><td>2</td><td>1</td><td>3</td><td>4</td><td>null</td><td>3</td><td>3</td><td>1</td><td>4</td><td>4</td></tr></tbody></table></div>"
      ],
      "text/plain": [
       "shape: (6, 18)\n",
       "┌──────────────────────┬──────┬─────┬─────┬───┬─────┬─────┬──────┬─────┐\n",
       "│ ethnicity_6_category ┆ null ┆ J   ┆ A   ┆ … ┆ H   ┆ S   ┆ L    ┆ P   │\n",
       "│ ---                  ┆ ---  ┆ --- ┆ --- ┆   ┆ --- ┆ --- ┆ ---  ┆ --- │\n",
       "│ cat                  ┆ i32  ┆ i32 ┆ i32 ┆   ┆ i32 ┆ i32 ┆ i32  ┆ i32 │\n",
       "╞══════════════════════╪══════╪═════╪═════╪═══╪═════╪═════╪══════╪═════╡\n",
       "│ 5                    ┆ 129  ┆ 7   ┆ 3   ┆ … ┆ 9   ┆ 12  ┆ 6    ┆ 6   │\n",
       "│ 1                    ┆ 141  ┆ 13  ┆ 8   ┆ … ┆ 5   ┆ 7   ┆ 8    ┆ 7   │\n",
       "│ null                 ┆ 33   ┆ 2   ┆ 1   ┆ … ┆ 5   ┆ 2   ┆ null ┆ 4   │\n",
       "│ 3                    ┆ 79   ┆ 9   ┆ 7   ┆ … ┆ 4   ┆ 4   ┆ 10   ┆ 4   │\n",
       "│ 4                    ┆ 86   ┆ 8   ┆ 2   ┆ … ┆ 3   ┆ 2   ┆ 3    ┆ 3   │\n",
       "│ 2                    ┆ 36   ┆ 5   ┆ 2   ┆ … ┆ 3   ┆ 1   ┆ 4    ┆ 4   │\n",
       "└──────────────────────┴──────┴─────┴─────┴───┴─────┴─────┴──────┴─────┘"
      ]
     },
     "metadata": {},
     "output_type": "display_data"
    },
    {
     "data": {
      "text/markdown": [
       "## Comparing ethnicity_6_category with ethnicity_gp_and_sus_5_category"
      ]
     },
     "metadata": {},
     "output_type": "display_data"
    },
    {
     "data": {
      "text/html": [
       "<div><style>\n",
       ".dataframe > thead > tr,\n",
       ".dataframe > tbody > tr {\n",
       "  text-align: right;\n",
       "  white-space: pre-wrap;\n",
       "}\n",
       "</style>\n",
       "<small>shape: (6, 7)</small><table border=\"1\" class=\"dataframe\"><thead><tr><th>ethnicity_6_category</th><th>Chinese or Other Ethnic Groups</th><th>White</th><th>Missing</th><th>Asian or Asian British</th><th>Black or Black British</th><th>Mixed</th></tr><tr><td>cat</td><td>i32</td><td>i32</td><td>i32</td><td>i32</td><td>i32</td><td>i32</td></tr></thead><tbody><tr><td>&quot;5&quot;</td><td>244</td><td>null</td><td>null</td><td>null</td><td>null</td><td>null</td></tr><tr><td>&quot;1&quot;</td><td>null</td><td>280</td><td>null</td><td>null</td><td>null</td><td>null</td></tr><tr><td>null</td><td>6</td><td>5</td><td>33</td><td>7</td><td>7</td><td>3</td></tr><tr><td>&quot;3&quot;</td><td>null</td><td>null</td><td>null</td><td>170</td><td>null</td><td>null</td></tr><tr><td>&quot;4&quot;</td><td>null</td><td>null</td><td>null</td><td>null</td><td>171</td><td>null</td></tr><tr><td>&quot;2&quot;</td><td>null</td><td>null</td><td>null</td><td>null</td><td>null</td><td>74</td></tr></tbody></table></div>"
      ],
      "text/plain": [
       "shape: (6, 7)\n",
       "┌───────────────────┬──────────────┬───────┬─────────┬──────────────────┬──────────────────┬───────┐\n",
       "│ ethnicity_6_categ ┆ Chinese or   ┆ White ┆ Missing ┆ Asian or Asian   ┆ Black or Black   ┆ Mixed │\n",
       "│ ory               ┆ Other Ethnic ┆ ---   ┆ ---     ┆ British          ┆ British          ┆ ---   │\n",
       "│ ---               ┆ Groups       ┆ i32   ┆ i32     ┆ ---              ┆ ---              ┆ i32   │\n",
       "│ cat               ┆ ---          ┆       ┆         ┆ i32              ┆ i32              ┆       │\n",
       "│                   ┆ i32          ┆       ┆         ┆                  ┆                  ┆       │\n",
       "╞═══════════════════╪══════════════╪═══════╪═════════╪══════════════════╪══════════════════╪═══════╡\n",
       "│ 5                 ┆ 244          ┆ null  ┆ null    ┆ null             ┆ null             ┆ null  │\n",
       "│ 1                 ┆ null         ┆ 280   ┆ null    ┆ null             ┆ null             ┆ null  │\n",
       "│ null              ┆ 6            ┆ 5     ┆ 33      ┆ 7                ┆ 7                ┆ 3     │\n",
       "│ 3                 ┆ null         ┆ null  ┆ null    ┆ 170              ┆ null             ┆ null  │\n",
       "│ 4                 ┆ null         ┆ null  ┆ null    ┆ null             ┆ 171              ┆ null  │\n",
       "│ 2                 ┆ null         ┆ null  ┆ null    ┆ null             ┆ null             ┆ 74    │\n",
       "└───────────────────┴──────────────┴───────┴─────────┴──────────────────┴──────────────────┴───────┘"
      ]
     },
     "metadata": {},
     "output_type": "display_data"
    },
    {
     "data": {
      "text/markdown": [
       "## Comparing ethnicity_6_category with ethnicity_gp_and_sus_16_category"
      ]
     },
     "metadata": {},
     "output_type": "display_data"
    },
    {
     "data": {
      "text/html": [
       "<div><style>\n",
       ".dataframe > thead > tr,\n",
       ".dataframe > tbody > tr {\n",
       "  text-align: right;\n",
       "  white-space: pre-wrap;\n",
       "}\n",
       "</style>\n",
       "<small>shape: (6, 18)</small><table border=\"1\" class=\"dataframe\"><thead><tr><th>ethnicity_6_category</th><th>Other Ethnic Groups - Any other ethnic group</th><th>White - Any other White background</th><th>Other Ethnic Groups - Chinese</th><th>Missing</th><th>Asian or Asian British - Any other Asian background</th><th>Black or Black British - African</th><th>Black or Black British - Any other Black background</th><th>White - Irish</th><th>Mixed - Any other mixed background</th><th>Mixed - White and Black African</th><th>Black or Black British - Caribbean</th><th>Asian or Asian British - Indian</th><th>White - British</th><th>Asian or Asian British - Bangladeshi</th><th>Mixed - White and Black Caribbean</th><th>Asian or Asian British - Pakistani</th><th>Mixed - White and Asian</th></tr><tr><td>cat</td><td>i32</td><td>i32</td><td>i32</td><td>i32</td><td>i32</td><td>i32</td><td>i32</td><td>i32</td><td>i32</td><td>i32</td><td>i32</td><td>i32</td><td>i32</td><td>i32</td><td>i32</td><td>i32</td><td>i32</td></tr></thead><tbody><tr><td>&quot;5&quot;</td><td>231</td><td>null</td><td>13</td><td>null</td><td>null</td><td>null</td><td>null</td><td>null</td><td>null</td><td>null</td><td>null</td><td>null</td><td>null</td><td>null</td><td>null</td><td>null</td><td>null</td></tr><tr><td>&quot;1&quot;</td><td>null</td><td>201</td><td>null</td><td>null</td><td>null</td><td>null</td><td>null</td><td>25</td><td>null</td><td>null</td><td>null</td><td>null</td><td>54</td><td>null</td><td>null</td><td>null</td><td>null</td></tr><tr><td>null</td><td>2</td><td>null</td><td>4</td><td>33</td><td>null</td><td>2</td><td>4</td><td>4</td><td>2</td><td>null</td><td>1</td><td>5</td><td>1</td><td>null</td><td>1</td><td>2</td><td>null</td></tr><tr><td>&quot;3&quot;</td><td>null</td><td>null</td><td>null</td><td>null</td><td>114</td><td>null</td><td>null</td><td>null</td><td>null</td><td>null</td><td>null</td><td>27</td><td>null</td><td>15</td><td>null</td><td>14</td><td>null</td></tr><tr><td>&quot;4&quot;</td><td>null</td><td>null</td><td>null</td><td>null</td><td>null</td><td>88</td><td>46</td><td>null</td><td>null</td><td>null</td><td>37</td><td>null</td><td>null</td><td>null</td><td>null</td><td>null</td><td>null</td></tr><tr><td>&quot;2&quot;</td><td>null</td><td>null</td><td>null</td><td>null</td><td>null</td><td>null</td><td>null</td><td>null</td><td>45</td><td>12</td><td>null</td><td>null</td><td>null</td><td>null</td><td>9</td><td>null</td><td>8</td></tr></tbody></table></div>"
      ],
      "text/plain": [
       "shape: (6, 18)\n",
       "┌───────────┬───────────┬───────────┬───────────┬───┬───────────┬───────────┬───────────┬──────────┐\n",
       "│ ethnicity ┆ Other     ┆ White -   ┆ Other     ┆ … ┆ Asian or  ┆ Mixed -   ┆ Asian or  ┆ Mixed -  │\n",
       "│ _6_catego ┆ Ethnic    ┆ Any other ┆ Ethnic    ┆   ┆ Asian     ┆ White and ┆ Asian     ┆ White    │\n",
       "│ ry        ┆ Groups -  ┆ White bac ┆ Groups -  ┆   ┆ British - ┆ Black     ┆ British - ┆ and      │\n",
       "│ ---       ┆ Any other ┆ kground   ┆ Chinese   ┆   ┆ Banglades ┆ Caribbean ┆ Pakistani ┆ Asian    │\n",
       "│ cat       ┆ ethnic    ┆ ---       ┆ ---       ┆   ┆ hi        ┆ ---       ┆ ---       ┆ ---      │\n",
       "│           ┆ group     ┆ i32       ┆ i32       ┆   ┆ ---       ┆ i32       ┆ i32       ┆ i32      │\n",
       "│           ┆ ---       ┆           ┆           ┆   ┆ i32       ┆           ┆           ┆          │\n",
       "│           ┆ i32       ┆           ┆           ┆   ┆           ┆           ┆           ┆          │\n",
       "╞═══════════╪═══════════╪═══════════╪═══════════╪═══╪═══════════╪═══════════╪═══════════╪══════════╡\n",
       "│ 5         ┆ 231       ┆ null      ┆ 13        ┆ … ┆ null      ┆ null      ┆ null      ┆ null     │\n",
       "│ 1         ┆ null      ┆ 201       ┆ null      ┆ … ┆ null      ┆ null      ┆ null      ┆ null     │\n",
       "│ null      ┆ 2         ┆ null      ┆ 4         ┆ … ┆ null      ┆ 1         ┆ 2         ┆ null     │\n",
       "│ 3         ┆ null      ┆ null      ┆ null      ┆ … ┆ 15        ┆ null      ┆ 14        ┆ null     │\n",
       "│ 4         ┆ null      ┆ null      ┆ null      ┆ … ┆ null      ┆ null      ┆ null      ┆ null     │\n",
       "│ 2         ┆ null      ┆ null      ┆ null      ┆ … ┆ null      ┆ 9         ┆ null      ┆ 8        │\n",
       "└───────────┴───────────┴───────────┴───────────┴───┴───────────┴───────────┴───────────┴──────────┘"
      ]
     },
     "metadata": {},
     "output_type": "display_data"
    },
    {
     "data": {
      "text/markdown": [
       "## Comparing ethnicity_16_category with ethnicity_sus"
      ]
     },
     "metadata": {},
     "output_type": "display_data"
    },
    {
     "data": {
      "text/html": [
       "<div><style>\n",
       ".dataframe > thead > tr,\n",
       ".dataframe > tbody > tr {\n",
       "  text-align: right;\n",
       "  white-space: pre-wrap;\n",
       "}\n",
       "</style>\n",
       "<small>shape: (17, 18)</small><table border=\"1\" class=\"dataframe\"><thead><tr><th>ethnicity_16_category</th><th>null</th><th>J</th><th>A</th><th>D</th><th>M</th><th>F</th><th>E</th><th>B</th><th>N</th><th>R</th><th>G</th><th>C</th><th>K</th><th>H</th><th>S</th><th>L</th><th>P</th></tr><tr><td>cat</td><td>i32</td><td>i32</td><td>i32</td><td>i32</td><td>i32</td><td>i32</td><td>i32</td><td>i32</td><td>i32</td><td>i32</td><td>i32</td><td>i32</td><td>i32</td><td>i32</td><td>i32</td><td>i32</td><td>i32</td></tr></thead><tbody><tr><td>&quot;16&quot;</td><td>121</td><td>7</td><td>3</td><td>4</td><td>9</td><td>4</td><td>8</td><td>6</td><td>6</td><td>11</td><td>9</td><td>6</td><td>6</td><td>9</td><td>10</td><td>6</td><td>6</td></tr><tr><td>&quot;3&quot;</td><td>101</td><td>9</td><td>4</td><td>5</td><td>9</td><td>7</td><td>13</td><td>6</td><td>9</td><td>8</td><td>9</td><td>3</td><td>1</td><td>3</td><td>5</td><td>5</td><td>4</td></tr><tr><td>&quot;15&quot;</td><td>8</td><td>null</td><td>null</td><td>2</td><td>null</td><td>null</td><td>null</td><td>1</td><td>null</td><td>null</td><td>null</td><td>null</td><td>null</td><td>null</td><td>2</td><td>null</td><td>null</td></tr><tr><td>null</td><td>33</td><td>2</td><td>1</td><td>1</td><td>1</td><td>null</td><td>null</td><td>4</td><td>2</td><td>4</td><td>2</td><td>null</td><td>null</td><td>5</td><td>2</td><td>null</td><td>4</td></tr><tr><td>&quot;11&quot;</td><td>52</td><td>5</td><td>5</td><td>6</td><td>4</td><td>2</td><td>3</td><td>3</td><td>3</td><td>5</td><td>2</td><td>2</td><td>5</td><td>3</td><td>4</td><td>7</td><td>3</td></tr><tr><td>&quot;13&quot;</td><td>47</td><td>4</td><td>2</td><td>1</td><td>4</td><td>4</td><td>null</td><td>5</td><td>4</td><td>2</td><td>null</td><td>6</td><td>4</td><td>null</td><td>1</td><td>3</td><td>1</td></tr><tr><td>&quot;14&quot;</td><td>19</td><td>1</td><td>null</td><td>3</td><td>6</td><td>1</td><td>2</td><td>3</td><td>1</td><td>1</td><td>1</td><td>1</td><td>2</td><td>3</td><td>1</td><td>null</td><td>1</td></tr><tr><td>&quot;7&quot;</td><td>22</td><td>4</td><td>1</td><td>null</td><td>null</td><td>1</td><td>1</td><td>1</td><td>null</td><td>1</td><td>3</td><td>null</td><td>2</td><td>3</td><td>null</td><td>3</td><td>3</td></tr><tr><td>&quot;5&quot;</td><td>7</td><td>null</td><td>null</td><td>null</td><td>null</td><td>1</td><td>null</td><td>1</td><td>1</td><td>null</td><td>null</td><td>null</td><td>null</td><td>null</td><td>1</td><td>null</td><td>1</td></tr><tr><td>&quot;12&quot;</td><td>20</td><td>3</td><td>null</td><td>4</td><td>null</td><td>4</td><td>1</td><td>2</td><td>2</td><td>null</td><td>null</td><td>null</td><td>null</td><td>null</td><td>null</td><td>null</td><td>1</td></tr><tr><td>&quot;8&quot;</td><td>15</td><td>null</td><td>1</td><td>1</td><td>1</td><td>2</td><td>1</td><td>1</td><td>2</td><td>null</td><td>null</td><td>1</td><td>1</td><td>null</td><td>null</td><td>null</td><td>1</td></tr><tr><td>&quot;2&quot;</td><td>12</td><td>null</td><td>1</td><td>null</td><td>null</td><td>2</td><td>1</td><td>null</td><td>1</td><td>1</td><td>null</td><td>1</td><td>null</td><td>2</td><td>1</td><td>2</td><td>1</td></tr><tr><td>&quot;1&quot;</td><td>28</td><td>4</td><td>3</td><td>null</td><td>1</td><td>1</td><td>1</td><td>2</td><td>null</td><td>4</td><td>2</td><td>1</td><td>3</td><td>null</td><td>1</td><td>1</td><td>2</td></tr><tr><td>&quot;10&quot;</td><td>5</td><td>3</td><td>1</td><td>2</td><td>1</td><td>null</td><td>null</td><td>1</td><td>null</td><td>1</td><td>null</td><td>null</td><td>null</td><td>null</td><td>null</td><td>1</td><td>null</td></tr><tr><td>&quot;4&quot;</td><td>5</td><td>null</td><td>1</td><td>null</td><td>null</td><td>1</td><td>null</td><td>null</td><td>null</td><td>1</td><td>1</td><td>null</td><td>null</td><td>null</td><td>null</td><td>null</td><td>null</td></tr><tr><td>&quot;9&quot;</td><td>7</td><td>1</td><td>null</td><td>1</td><td>null</td><td>null</td><td>null</td><td>1</td><td>null</td><td>null</td><td>1</td><td>null</td><td>null</td><td>1</td><td>null</td><td>2</td><td>null</td></tr><tr><td>&quot;6&quot;</td><td>2</td><td>1</td><td>null</td><td>null</td><td>null</td><td>1</td><td>1</td><td>null</td><td>null</td><td>1</td><td>null</td><td>null</td><td>1</td><td>null</td><td>null</td><td>1</td><td>null</td></tr></tbody></table></div>"
      ],
      "text/plain": [
       "shape: (17, 18)\n",
       "┌───────────────────────┬──────┬──────┬──────┬───┬──────┬──────┬──────┬──────┐\n",
       "│ ethnicity_16_category ┆ null ┆ J    ┆ A    ┆ … ┆ H    ┆ S    ┆ L    ┆ P    │\n",
       "│ ---                   ┆ ---  ┆ ---  ┆ ---  ┆   ┆ ---  ┆ ---  ┆ ---  ┆ ---  │\n",
       "│ cat                   ┆ i32  ┆ i32  ┆ i32  ┆   ┆ i32  ┆ i32  ┆ i32  ┆ i32  │\n",
       "╞═══════════════════════╪══════╪══════╪══════╪═══╪══════╪══════╪══════╪══════╡\n",
       "│ 16                    ┆ 121  ┆ 7    ┆ 3    ┆ … ┆ 9    ┆ 10   ┆ 6    ┆ 6    │\n",
       "│ 3                     ┆ 101  ┆ 9    ┆ 4    ┆ … ┆ 3    ┆ 5    ┆ 5    ┆ 4    │\n",
       "│ 15                    ┆ 8    ┆ null ┆ null ┆ … ┆ null ┆ 2    ┆ null ┆ null │\n",
       "│ null                  ┆ 33   ┆ 2    ┆ 1    ┆ … ┆ 5    ┆ 2    ┆ null ┆ 4    │\n",
       "│ …                     ┆ …    ┆ …    ┆ …    ┆ … ┆ …    ┆ …    ┆ …    ┆ …    │\n",
       "│ 10                    ┆ 5    ┆ 3    ┆ 1    ┆ … ┆ null ┆ null ┆ 1    ┆ null │\n",
       "│ 4                     ┆ 5    ┆ null ┆ 1    ┆ … ┆ null ┆ null ┆ null ┆ null │\n",
       "│ 9                     ┆ 7    ┆ 1    ┆ null ┆ … ┆ 1    ┆ null ┆ 2    ┆ null │\n",
       "│ 6                     ┆ 2    ┆ 1    ┆ null ┆ … ┆ null ┆ null ┆ 1    ┆ null │\n",
       "└───────────────────────┴──────┴──────┴──────┴───┴──────┴──────┴──────┴──────┘"
      ]
     },
     "metadata": {},
     "output_type": "display_data"
    },
    {
     "data": {
      "text/markdown": [
       "## Comparing ethnicity_16_category with ethnicity_gp_and_sus_5_category"
      ]
     },
     "metadata": {},
     "output_type": "display_data"
    },
    {
     "data": {
      "text/html": [
       "<div><style>\n",
       ".dataframe > thead > tr,\n",
       ".dataframe > tbody > tr {\n",
       "  text-align: right;\n",
       "  white-space: pre-wrap;\n",
       "}\n",
       "</style>\n",
       "<small>shape: (17, 7)</small><table border=\"1\" class=\"dataframe\"><thead><tr><th>ethnicity_16_category</th><th>Chinese or Other Ethnic Groups</th><th>White</th><th>Missing</th><th>Asian or Asian British</th><th>Black or Black British</th><th>Mixed</th></tr><tr><td>cat</td><td>i32</td><td>i32</td><td>i32</td><td>i32</td><td>i32</td><td>i32</td></tr></thead><tbody><tr><td>&quot;16&quot;</td><td>231</td><td>null</td><td>null</td><td>null</td><td>null</td><td>null</td></tr><tr><td>&quot;3&quot;</td><td>null</td><td>201</td><td>null</td><td>null</td><td>null</td><td>null</td></tr><tr><td>&quot;15&quot;</td><td>13</td><td>null</td><td>null</td><td>null</td><td>null</td><td>null</td></tr><tr><td>null</td><td>6</td><td>5</td><td>33</td><td>7</td><td>7</td><td>3</td></tr><tr><td>&quot;11&quot;</td><td>null</td><td>null</td><td>null</td><td>114</td><td>null</td><td>null</td></tr><tr><td>&quot;13&quot;</td><td>null</td><td>null</td><td>null</td><td>null</td><td>88</td><td>null</td></tr><tr><td>&quot;14&quot;</td><td>null</td><td>null</td><td>null</td><td>null</td><td>46</td><td>null</td></tr><tr><td>&quot;7&quot;</td><td>null</td><td>null</td><td>null</td><td>null</td><td>null</td><td>45</td></tr><tr><td>&quot;5&quot;</td><td>null</td><td>null</td><td>null</td><td>null</td><td>null</td><td>12</td></tr><tr><td>&quot;12&quot;</td><td>null</td><td>null</td><td>null</td><td>null</td><td>37</td><td>null</td></tr><tr><td>&quot;8&quot;</td><td>null</td><td>null</td><td>null</td><td>27</td><td>null</td><td>null</td></tr><tr><td>&quot;2&quot;</td><td>null</td><td>25</td><td>null</td><td>null</td><td>null</td><td>null</td></tr><tr><td>&quot;1&quot;</td><td>null</td><td>54</td><td>null</td><td>null</td><td>null</td><td>null</td></tr><tr><td>&quot;10&quot;</td><td>null</td><td>null</td><td>null</td><td>15</td><td>null</td><td>null</td></tr><tr><td>&quot;4&quot;</td><td>null</td><td>null</td><td>null</td><td>null</td><td>null</td><td>9</td></tr><tr><td>&quot;9&quot;</td><td>null</td><td>null</td><td>null</td><td>14</td><td>null</td><td>null</td></tr><tr><td>&quot;6&quot;</td><td>null</td><td>null</td><td>null</td><td>null</td><td>null</td><td>8</td></tr></tbody></table></div>"
      ],
      "text/plain": [
       "shape: (17, 7)\n",
       "┌───────────────────┬──────────────┬───────┬─────────┬──────────────────┬──────────────────┬───────┐\n",
       "│ ethnicity_16_cate ┆ Chinese or   ┆ White ┆ Missing ┆ Asian or Asian   ┆ Black or Black   ┆ Mixed │\n",
       "│ gory              ┆ Other Ethnic ┆ ---   ┆ ---     ┆ British          ┆ British          ┆ ---   │\n",
       "│ ---               ┆ Groups       ┆ i32   ┆ i32     ┆ ---              ┆ ---              ┆ i32   │\n",
       "│ cat               ┆ ---          ┆       ┆         ┆ i32              ┆ i32              ┆       │\n",
       "│                   ┆ i32          ┆       ┆         ┆                  ┆                  ┆       │\n",
       "╞═══════════════════╪══════════════╪═══════╪═════════╪══════════════════╪══════════════════╪═══════╡\n",
       "│ 16                ┆ 231          ┆ null  ┆ null    ┆ null             ┆ null             ┆ null  │\n",
       "│ 3                 ┆ null         ┆ 201   ┆ null    ┆ null             ┆ null             ┆ null  │\n",
       "│ 15                ┆ 13           ┆ null  ┆ null    ┆ null             ┆ null             ┆ null  │\n",
       "│ null              ┆ 6            ┆ 5     ┆ 33      ┆ 7                ┆ 7                ┆ 3     │\n",
       "│ …                 ┆ …            ┆ …     ┆ …       ┆ …                ┆ …                ┆ …     │\n",
       "│ 10                ┆ null         ┆ null  ┆ null    ┆ 15               ┆ null             ┆ null  │\n",
       "│ 4                 ┆ null         ┆ null  ┆ null    ┆ null             ┆ null             ┆ 9     │\n",
       "│ 9                 ┆ null         ┆ null  ┆ null    ┆ 14               ┆ null             ┆ null  │\n",
       "│ 6                 ┆ null         ┆ null  ┆ null    ┆ null             ┆ null             ┆ 8     │\n",
       "└───────────────────┴──────────────┴───────┴─────────┴──────────────────┴──────────────────┴───────┘"
      ]
     },
     "metadata": {},
     "output_type": "display_data"
    },
    {
     "data": {
      "text/markdown": [
       "## Comparing ethnicity_16_category with ethnicity_gp_and_sus_16_category"
      ]
     },
     "metadata": {},
     "output_type": "display_data"
    },
    {
     "data": {
      "text/html": [
       "<div><style>\n",
       ".dataframe > thead > tr,\n",
       ".dataframe > tbody > tr {\n",
       "  text-align: right;\n",
       "  white-space: pre-wrap;\n",
       "}\n",
       "</style>\n",
       "<small>shape: (17, 18)</small><table border=\"1\" class=\"dataframe\"><thead><tr><th>ethnicity_16_category</th><th>Other Ethnic Groups - Any other ethnic group</th><th>White - Any other White background</th><th>Other Ethnic Groups - Chinese</th><th>Missing</th><th>Asian or Asian British - Any other Asian background</th><th>Black or Black British - African</th><th>Black or Black British - Any other Black background</th><th>White - Irish</th><th>Mixed - Any other mixed background</th><th>Mixed - White and Black African</th><th>Black or Black British - Caribbean</th><th>Asian or Asian British - Indian</th><th>White - British</th><th>Asian or Asian British - Bangladeshi</th><th>Mixed - White and Black Caribbean</th><th>Asian or Asian British - Pakistani</th><th>Mixed - White and Asian</th></tr><tr><td>cat</td><td>i32</td><td>i32</td><td>i32</td><td>i32</td><td>i32</td><td>i32</td><td>i32</td><td>i32</td><td>i32</td><td>i32</td><td>i32</td><td>i32</td><td>i32</td><td>i32</td><td>i32</td><td>i32</td><td>i32</td></tr></thead><tbody><tr><td>&quot;16&quot;</td><td>231</td><td>null</td><td>null</td><td>null</td><td>null</td><td>null</td><td>null</td><td>null</td><td>null</td><td>null</td><td>null</td><td>null</td><td>null</td><td>null</td><td>null</td><td>null</td><td>null</td></tr><tr><td>&quot;3&quot;</td><td>null</td><td>201</td><td>null</td><td>null</td><td>null</td><td>null</td><td>null</td><td>null</td><td>null</td><td>null</td><td>null</td><td>null</td><td>null</td><td>null</td><td>null</td><td>null</td><td>null</td></tr><tr><td>&quot;15&quot;</td><td>null</td><td>null</td><td>13</td><td>null</td><td>null</td><td>null</td><td>null</td><td>null</td><td>null</td><td>null</td><td>null</td><td>null</td><td>null</td><td>null</td><td>null</td><td>null</td><td>null</td></tr><tr><td>null</td><td>2</td><td>null</td><td>4</td><td>33</td><td>null</td><td>2</td><td>4</td><td>4</td><td>2</td><td>null</td><td>1</td><td>5</td><td>1</td><td>null</td><td>1</td><td>2</td><td>null</td></tr><tr><td>&quot;11&quot;</td><td>null</td><td>null</td><td>null</td><td>null</td><td>114</td><td>null</td><td>null</td><td>null</td><td>null</td><td>null</td><td>null</td><td>null</td><td>null</td><td>null</td><td>null</td><td>null</td><td>null</td></tr><tr><td>&quot;13&quot;</td><td>null</td><td>null</td><td>null</td><td>null</td><td>null</td><td>88</td><td>null</td><td>null</td><td>null</td><td>null</td><td>null</td><td>null</td><td>null</td><td>null</td><td>null</td><td>null</td><td>null</td></tr><tr><td>&quot;14&quot;</td><td>null</td><td>null</td><td>null</td><td>null</td><td>null</td><td>null</td><td>46</td><td>null</td><td>null</td><td>null</td><td>null</td><td>null</td><td>null</td><td>null</td><td>null</td><td>null</td><td>null</td></tr><tr><td>&quot;7&quot;</td><td>null</td><td>null</td><td>null</td><td>null</td><td>null</td><td>null</td><td>null</td><td>null</td><td>45</td><td>null</td><td>null</td><td>null</td><td>null</td><td>null</td><td>null</td><td>null</td><td>null</td></tr><tr><td>&quot;5&quot;</td><td>null</td><td>null</td><td>null</td><td>null</td><td>null</td><td>null</td><td>null</td><td>null</td><td>null</td><td>12</td><td>null</td><td>null</td><td>null</td><td>null</td><td>null</td><td>null</td><td>null</td></tr><tr><td>&quot;12&quot;</td><td>null</td><td>null</td><td>null</td><td>null</td><td>null</td><td>null</td><td>null</td><td>null</td><td>null</td><td>null</td><td>37</td><td>null</td><td>null</td><td>null</td><td>null</td><td>null</td><td>null</td></tr><tr><td>&quot;8&quot;</td><td>null</td><td>null</td><td>null</td><td>null</td><td>null</td><td>null</td><td>null</td><td>null</td><td>null</td><td>null</td><td>null</td><td>27</td><td>null</td><td>null</td><td>null</td><td>null</td><td>null</td></tr><tr><td>&quot;2&quot;</td><td>null</td><td>null</td><td>null</td><td>null</td><td>null</td><td>null</td><td>null</td><td>25</td><td>null</td><td>null</td><td>null</td><td>null</td><td>null</td><td>null</td><td>null</td><td>null</td><td>null</td></tr><tr><td>&quot;1&quot;</td><td>null</td><td>null</td><td>null</td><td>null</td><td>null</td><td>null</td><td>null</td><td>null</td><td>null</td><td>null</td><td>null</td><td>null</td><td>54</td><td>null</td><td>null</td><td>null</td><td>null</td></tr><tr><td>&quot;10&quot;</td><td>null</td><td>null</td><td>null</td><td>null</td><td>null</td><td>null</td><td>null</td><td>null</td><td>null</td><td>null</td><td>null</td><td>null</td><td>null</td><td>15</td><td>null</td><td>null</td><td>null</td></tr><tr><td>&quot;4&quot;</td><td>null</td><td>null</td><td>null</td><td>null</td><td>null</td><td>null</td><td>null</td><td>null</td><td>null</td><td>null</td><td>null</td><td>null</td><td>null</td><td>null</td><td>9</td><td>null</td><td>null</td></tr><tr><td>&quot;9&quot;</td><td>null</td><td>null</td><td>null</td><td>null</td><td>null</td><td>null</td><td>null</td><td>null</td><td>null</td><td>null</td><td>null</td><td>null</td><td>null</td><td>null</td><td>null</td><td>14</td><td>null</td></tr><tr><td>&quot;6&quot;</td><td>null</td><td>null</td><td>null</td><td>null</td><td>null</td><td>null</td><td>null</td><td>null</td><td>null</td><td>null</td><td>null</td><td>null</td><td>null</td><td>null</td><td>null</td><td>null</td><td>8</td></tr></tbody></table></div>"
      ],
      "text/plain": [
       "shape: (17, 18)\n",
       "┌───────────┬───────────┬───────────┬───────────┬───┬───────────┬───────────┬───────────┬──────────┐\n",
       "│ ethnicity ┆ Other     ┆ White -   ┆ Other     ┆ … ┆ Asian or  ┆ Mixed -   ┆ Asian or  ┆ Mixed -  │\n",
       "│ _16_categ ┆ Ethnic    ┆ Any other ┆ Ethnic    ┆   ┆ Asian     ┆ White and ┆ Asian     ┆ White    │\n",
       "│ ory       ┆ Groups -  ┆ White bac ┆ Groups -  ┆   ┆ British - ┆ Black     ┆ British - ┆ and      │\n",
       "│ ---       ┆ Any other ┆ kground   ┆ Chinese   ┆   ┆ Banglades ┆ Caribbean ┆ Pakistani ┆ Asian    │\n",
       "│ cat       ┆ ethnic    ┆ ---       ┆ ---       ┆   ┆ hi        ┆ ---       ┆ ---       ┆ ---      │\n",
       "│           ┆ group     ┆ i32       ┆ i32       ┆   ┆ ---       ┆ i32       ┆ i32       ┆ i32      │\n",
       "│           ┆ ---       ┆           ┆           ┆   ┆ i32       ┆           ┆           ┆          │\n",
       "│           ┆ i32       ┆           ┆           ┆   ┆           ┆           ┆           ┆          │\n",
       "╞═══════════╪═══════════╪═══════════╪═══════════╪═══╪═══════════╪═══════════╪═══════════╪══════════╡\n",
       "│ 16        ┆ 231       ┆ null      ┆ null      ┆ … ┆ null      ┆ null      ┆ null      ┆ null     │\n",
       "│ 3         ┆ null      ┆ 201       ┆ null      ┆ … ┆ null      ┆ null      ┆ null      ┆ null     │\n",
       "│ 15        ┆ null      ┆ null      ┆ 13        ┆ … ┆ null      ┆ null      ┆ null      ┆ null     │\n",
       "│ null      ┆ 2         ┆ null      ┆ 4         ┆ … ┆ null      ┆ 1         ┆ 2         ┆ null     │\n",
       "│ …         ┆ …         ┆ …         ┆ …         ┆ … ┆ …         ┆ …         ┆ …         ┆ …        │\n",
       "│ 10        ┆ null      ┆ null      ┆ null      ┆ … ┆ 15        ┆ null      ┆ null      ┆ null     │\n",
       "│ 4         ┆ null      ┆ null      ┆ null      ┆ … ┆ null      ┆ 9         ┆ null      ┆ null     │\n",
       "│ 9         ┆ null      ┆ null      ┆ null      ┆ … ┆ null      ┆ null      ┆ 14        ┆ null     │\n",
       "│ 6         ┆ null      ┆ null      ┆ null      ┆ … ┆ null      ┆ null      ┆ null      ┆ 8        │\n",
       "└───────────┴───────────┴───────────┴───────────┴───┴───────────┴───────────┴───────────┴──────────┘"
      ]
     },
     "metadata": {},
     "output_type": "display_data"
    },
    {
     "data": {
      "text/markdown": [
       "## Comparing ethnicity_sus with ethnicity_gp_and_sus_5_category"
      ]
     },
     "metadata": {},
     "output_type": "display_data"
    },
    {
     "data": {
      "text/html": [
       "<div><style>\n",
       ".dataframe > thead > tr,\n",
       ".dataframe > tbody > tr {\n",
       "  text-align: right;\n",
       "  white-space: pre-wrap;\n",
       "}\n",
       "</style>\n",
       "<small>shape: (17, 7)</small><table border=\"1\" class=\"dataframe\"><thead><tr><th>ethnicity_sus</th><th>Chinese or Other Ethnic Groups</th><th>White</th><th>Missing</th><th>Asian or Asian British</th><th>Black or Black British</th><th>Mixed</th></tr><tr><td>cat</td><td>i32</td><td>i32</td><td>i32</td><td>i32</td><td>i32</td><td>i32</td></tr></thead><tbody><tr><td>null</td><td>129</td><td>141</td><td>33</td><td>79</td><td>86</td><td>36</td></tr><tr><td>&quot;J&quot;</td><td>7</td><td>13</td><td>null</td><td>11</td><td>8</td><td>5</td></tr><tr><td>&quot;A&quot;</td><td>3</td><td>9</td><td>null</td><td>7</td><td>2</td><td>2</td></tr><tr><td>&quot;D&quot;</td><td>6</td><td>5</td><td>null</td><td>10</td><td>8</td><td>1</td></tr><tr><td>&quot;M&quot;</td><td>9</td><td>10</td><td>null</td><td>6</td><td>11</td><td>null</td></tr><tr><td>&quot;F&quot;</td><td>4</td><td>10</td><td>null</td><td>4</td><td>9</td><td>4</td></tr><tr><td>&quot;E&quot;</td><td>8</td><td>15</td><td>null</td><td>4</td><td>3</td><td>2</td></tr><tr><td>&quot;B&quot;</td><td>7</td><td>12</td><td>null</td><td>6</td><td>10</td><td>2</td></tr><tr><td>&quot;N&quot;</td><td>6</td><td>10</td><td>null</td><td>5</td><td>9</td><td>1</td></tr><tr><td>&quot;R&quot;</td><td>15</td><td>13</td><td>null</td><td>6</td><td>3</td><td>3</td></tr><tr><td>&quot;G&quot;</td><td>9</td><td>11</td><td>null</td><td>3</td><td>1</td><td>6</td></tr><tr><td>&quot;C&quot;</td><td>6</td><td>5</td><td>null</td><td>3</td><td>7</td><td>null</td></tr><tr><td>&quot;K&quot;</td><td>6</td><td>4</td><td>null</td><td>6</td><td>6</td><td>3</td></tr><tr><td>&quot;H&quot;</td><td>9</td><td>5</td><td>null</td><td>9</td><td>3</td><td>3</td></tr><tr><td>&quot;S&quot;</td><td>14</td><td>7</td><td>null</td><td>4</td><td>2</td><td>1</td></tr><tr><td>&quot;L&quot;</td><td>6</td><td>8</td><td>null</td><td>10</td><td>3</td><td>4</td></tr><tr><td>&quot;P&quot;</td><td>6</td><td>7</td><td>null</td><td>4</td><td>7</td><td>4</td></tr></tbody></table></div>"
      ],
      "text/plain": [
       "shape: (17, 7)\n",
       "┌───────────────┬──────────────────┬───────┬─────────┬──────────────────┬──────────────────┬───────┐\n",
       "│ ethnicity_sus ┆ Chinese or Other ┆ White ┆ Missing ┆ Asian or Asian   ┆ Black or Black   ┆ Mixed │\n",
       "│ ---           ┆ Ethnic Groups    ┆ ---   ┆ ---     ┆ British          ┆ British          ┆ ---   │\n",
       "│ cat           ┆ ---              ┆ i32   ┆ i32     ┆ ---              ┆ ---              ┆ i32   │\n",
       "│               ┆ i32              ┆       ┆         ┆ i32              ┆ i32              ┆       │\n",
       "╞═══════════════╪══════════════════╪═══════╪═════════╪══════════════════╪══════════════════╪═══════╡\n",
       "│ null          ┆ 129              ┆ 141   ┆ 33      ┆ 79               ┆ 86               ┆ 36    │\n",
       "│ J             ┆ 7                ┆ 13    ┆ null    ┆ 11               ┆ 8                ┆ 5     │\n",
       "│ A             ┆ 3                ┆ 9     ┆ null    ┆ 7                ┆ 2                ┆ 2     │\n",
       "│ D             ┆ 6                ┆ 5     ┆ null    ┆ 10               ┆ 8                ┆ 1     │\n",
       "│ …             ┆ …                ┆ …     ┆ …       ┆ …                ┆ …                ┆ …     │\n",
       "│ H             ┆ 9                ┆ 5     ┆ null    ┆ 9                ┆ 3                ┆ 3     │\n",
       "│ S             ┆ 14               ┆ 7     ┆ null    ┆ 4                ┆ 2                ┆ 1     │\n",
       "│ L             ┆ 6                ┆ 8     ┆ null    ┆ 10               ┆ 3                ┆ 4     │\n",
       "│ P             ┆ 6                ┆ 7     ┆ null    ┆ 4                ┆ 7                ┆ 4     │\n",
       "└───────────────┴──────────────────┴───────┴─────────┴──────────────────┴──────────────────┴───────┘"
      ]
     },
     "metadata": {},
     "output_type": "display_data"
    },
    {
     "data": {
      "text/markdown": [
       "## Comparing ethnicity_sus with ethnicity_gp_and_sus_16_category"
      ]
     },
     "metadata": {},
     "output_type": "display_data"
    },
    {
     "data": {
      "text/html": [
       "<div><style>\n",
       ".dataframe > thead > tr,\n",
       ".dataframe > tbody > tr {\n",
       "  text-align: right;\n",
       "  white-space: pre-wrap;\n",
       "}\n",
       "</style>\n",
       "<small>shape: (17, 18)</small><table border=\"1\" class=\"dataframe\"><thead><tr><th>ethnicity_sus</th><th>Other Ethnic Groups - Any other ethnic group</th><th>White - Any other White background</th><th>Other Ethnic Groups - Chinese</th><th>Missing</th><th>Asian or Asian British - Any other Asian background</th><th>Black or Black British - African</th><th>Black or Black British - Any other Black background</th><th>White - Irish</th><th>Mixed - Any other mixed background</th><th>Mixed - White and Black African</th><th>Black or Black British - Caribbean</th><th>Asian or Asian British - Indian</th><th>White - British</th><th>Asian or Asian British - Bangladeshi</th><th>Mixed - White and Black Caribbean</th><th>Asian or Asian British - Pakistani</th><th>Mixed - White and Asian</th></tr><tr><td>cat</td><td>i32</td><td>i32</td><td>i32</td><td>i32</td><td>i32</td><td>i32</td><td>i32</td><td>i32</td><td>i32</td><td>i32</td><td>i32</td><td>i32</td><td>i32</td><td>i32</td><td>i32</td><td>i32</td><td>i32</td></tr></thead><tbody><tr><td>null</td><td>121</td><td>101</td><td>8</td><td>33</td><td>52</td><td>47</td><td>19</td><td>12</td><td>22</td><td>7</td><td>20</td><td>15</td><td>28</td><td>5</td><td>5</td><td>7</td><td>2</td></tr><tr><td>&quot;J&quot;</td><td>7</td><td>9</td><td>null</td><td>null</td><td>5</td><td>4</td><td>1</td><td>null</td><td>4</td><td>null</td><td>3</td><td>null</td><td>4</td><td>3</td><td>null</td><td>3</td><td>1</td></tr><tr><td>&quot;A&quot;</td><td>3</td><td>4</td><td>null</td><td>null</td><td>5</td><td>2</td><td>null</td><td>1</td><td>1</td><td>null</td><td>null</td><td>1</td><td>4</td><td>1</td><td>1</td><td>null</td><td>null</td></tr><tr><td>&quot;D&quot;</td><td>4</td><td>5</td><td>2</td><td>null</td><td>6</td><td>1</td><td>3</td><td>null</td><td>null</td><td>null</td><td>4</td><td>1</td><td>null</td><td>2</td><td>1</td><td>1</td><td>null</td></tr><tr><td>&quot;M&quot;</td><td>9</td><td>9</td><td>null</td><td>null</td><td>4</td><td>4</td><td>6</td><td>null</td><td>null</td><td>null</td><td>1</td><td>1</td><td>1</td><td>1</td><td>null</td><td>null</td><td>null</td></tr><tr><td>&quot;F&quot;</td><td>4</td><td>7</td><td>null</td><td>null</td><td>2</td><td>4</td><td>1</td><td>2</td><td>1</td><td>1</td><td>4</td><td>2</td><td>1</td><td>null</td><td>1</td><td>null</td><td>1</td></tr><tr><td>&quot;E&quot;</td><td>8</td><td>13</td><td>null</td><td>null</td><td>3</td><td>null</td><td>2</td><td>1</td><td>1</td><td>null</td><td>1</td><td>1</td><td>1</td><td>null</td><td>null</td><td>null</td><td>1</td></tr><tr><td>&quot;B&quot;</td><td>6</td><td>6</td><td>1</td><td>null</td><td>3</td><td>5</td><td>3</td><td>4</td><td>1</td><td>1</td><td>2</td><td>1</td><td>2</td><td>1</td><td>null</td><td>1</td><td>null</td></tr><tr><td>&quot;N&quot;</td><td>6</td><td>9</td><td>null</td><td>null</td><td>3</td><td>6</td><td>1</td><td>1</td><td>null</td><td>1</td><td>2</td><td>2</td><td>null</td><td>null</td><td>null</td><td>null</td><td>null</td></tr><tr><td>&quot;R&quot;</td><td>11</td><td>8</td><td>4</td><td>null</td><td>5</td><td>2</td><td>1</td><td>1</td><td>1</td><td>null</td><td>null</td><td>null</td><td>4</td><td>1</td><td>1</td><td>null</td><td>1</td></tr><tr><td>&quot;G&quot;</td><td>9</td><td>9</td><td>null</td><td>null</td><td>2</td><td>null</td><td>1</td><td>null</td><td>5</td><td>null</td><td>null</td><td>null</td><td>2</td><td>null</td><td>1</td><td>1</td><td>null</td></tr><tr><td>&quot;C&quot;</td><td>6</td><td>3</td><td>null</td><td>null</td><td>2</td><td>6</td><td>1</td><td>1</td><td>null</td><td>null</td><td>null</td><td>1</td><td>1</td><td>null</td><td>null</td><td>null</td><td>null</td></tr><tr><td>&quot;K&quot;</td><td>6</td><td>1</td><td>null</td><td>null</td><td>5</td><td>4</td><td>2</td><td>null</td><td>2</td><td>null</td><td>null</td><td>1</td><td>3</td><td>null</td><td>null</td><td>null</td><td>1</td></tr><tr><td>&quot;H&quot;</td><td>9</td><td>3</td><td>null</td><td>null</td><td>3</td><td>null</td><td>3</td><td>2</td><td>3</td><td>null</td><td>null</td><td>5</td><td>null</td><td>null</td><td>null</td><td>1</td><td>null</td></tr><tr><td>&quot;S&quot;</td><td>12</td><td>5</td><td>2</td><td>null</td><td>4</td><td>1</td><td>1</td><td>1</td><td>null</td><td>1</td><td>null</td><td>null</td><td>1</td><td>null</td><td>null</td><td>null</td><td>null</td></tr><tr><td>&quot;L&quot;</td><td>6</td><td>5</td><td>null</td><td>null</td><td>7</td><td>3</td><td>null</td><td>2</td><td>3</td><td>null</td><td>null</td><td>null</td><td>1</td><td>1</td><td>null</td><td>2</td><td>1</td></tr><tr><td>&quot;P&quot;</td><td>6</td><td>4</td><td>null</td><td>null</td><td>3</td><td>1</td><td>5</td><td>1</td><td>3</td><td>1</td><td>1</td><td>1</td><td>2</td><td>null</td><td>null</td><td>null</td><td>null</td></tr></tbody></table></div>"
      ],
      "text/plain": [
       "shape: (17, 18)\n",
       "┌───────────┬───────────┬───────────┬───────────┬───┬───────────┬───────────┬───────────┬──────────┐\n",
       "│ ethnicity ┆ Other     ┆ White -   ┆ Other     ┆ … ┆ Asian or  ┆ Mixed -   ┆ Asian or  ┆ Mixed -  │\n",
       "│ _sus      ┆ Ethnic    ┆ Any other ┆ Ethnic    ┆   ┆ Asian     ┆ White and ┆ Asian     ┆ White    │\n",
       "│ ---       ┆ Groups -  ┆ White bac ┆ Groups -  ┆   ┆ British - ┆ Black     ┆ British - ┆ and      │\n",
       "│ cat       ┆ Any other ┆ kground   ┆ Chinese   ┆   ┆ Banglades ┆ Caribbean ┆ Pakistani ┆ Asian    │\n",
       "│           ┆ ethnic    ┆ ---       ┆ ---       ┆   ┆ hi        ┆ ---       ┆ ---       ┆ ---      │\n",
       "│           ┆ group     ┆ i32       ┆ i32       ┆   ┆ ---       ┆ i32       ┆ i32       ┆ i32      │\n",
       "│           ┆ ---       ┆           ┆           ┆   ┆ i32       ┆           ┆           ┆          │\n",
       "│           ┆ i32       ┆           ┆           ┆   ┆           ┆           ┆           ┆          │\n",
       "╞═══════════╪═══════════╪═══════════╪═══════════╪═══╪═══════════╪═══════════╪═══════════╪══════════╡\n",
       "│ null      ┆ 121       ┆ 101       ┆ 8         ┆ … ┆ 5         ┆ 5         ┆ 7         ┆ 2        │\n",
       "│ J         ┆ 7         ┆ 9         ┆ null      ┆ … ┆ 3         ┆ null      ┆ 3         ┆ 1        │\n",
       "│ A         ┆ 3         ┆ 4         ┆ null      ┆ … ┆ 1         ┆ 1         ┆ null      ┆ null     │\n",
       "│ D         ┆ 4         ┆ 5         ┆ 2         ┆ … ┆ 2         ┆ 1         ┆ 1         ┆ null     │\n",
       "│ …         ┆ …         ┆ …         ┆ …         ┆ … ┆ …         ┆ …         ┆ …         ┆ …        │\n",
       "│ H         ┆ 9         ┆ 3         ┆ null      ┆ … ┆ null      ┆ null      ┆ 1         ┆ null     │\n",
       "│ S         ┆ 12        ┆ 5         ┆ 2         ┆ … ┆ null      ┆ null      ┆ null      ┆ null     │\n",
       "│ L         ┆ 6         ┆ 5         ┆ null      ┆ … ┆ 1         ┆ null      ┆ 2         ┆ 1        │\n",
       "│ P         ┆ 6         ┆ 4         ┆ null      ┆ … ┆ null      ┆ null      ┆ null      ┆ null     │\n",
       "└───────────┴───────────┴───────────┴───────────┴───┴───────────┴───────────┴───────────┴──────────┘"
      ]
     },
     "metadata": {},
     "output_type": "display_data"
    },
    {
     "data": {
      "text/markdown": [
       "## Comparing ethnicity_gp_and_sus_5_category with ethnicity_gp_and_sus_16_category"
      ]
     },
     "metadata": {},
     "output_type": "display_data"
    },
    {
     "data": {
      "text/html": [
       "<div><style>\n",
       ".dataframe > thead > tr,\n",
       ".dataframe > tbody > tr {\n",
       "  text-align: right;\n",
       "  white-space: pre-wrap;\n",
       "}\n",
       "</style>\n",
       "<small>shape: (6, 18)</small><table border=\"1\" class=\"dataframe\"><thead><tr><th>ethnicity_gp_and_sus_5_category</th><th>Other Ethnic Groups - Any other ethnic group</th><th>White - Any other White background</th><th>Other Ethnic Groups - Chinese</th><th>Missing</th><th>Asian or Asian British - Any other Asian background</th><th>Black or Black British - African</th><th>Black or Black British - Any other Black background</th><th>White - Irish</th><th>Mixed - Any other mixed background</th><th>Mixed - White and Black African</th><th>Black or Black British - Caribbean</th><th>Asian or Asian British - Indian</th><th>White - British</th><th>Asian or Asian British - Bangladeshi</th><th>Mixed - White and Black Caribbean</th><th>Asian or Asian British - Pakistani</th><th>Mixed - White and Asian</th></tr><tr><td>cat</td><td>i32</td><td>i32</td><td>i32</td><td>i32</td><td>i32</td><td>i32</td><td>i32</td><td>i32</td><td>i32</td><td>i32</td><td>i32</td><td>i32</td><td>i32</td><td>i32</td><td>i32</td><td>i32</td><td>i32</td></tr></thead><tbody><tr><td>&quot;Chinese or Other Ethnic Groups&quot;</td><td>233</td><td>null</td><td>17</td><td>null</td><td>null</td><td>null</td><td>null</td><td>null</td><td>null</td><td>null</td><td>null</td><td>null</td><td>null</td><td>null</td><td>null</td><td>null</td><td>null</td></tr><tr><td>&quot;White&quot;</td><td>null</td><td>201</td><td>null</td><td>null</td><td>null</td><td>null</td><td>null</td><td>29</td><td>null</td><td>null</td><td>null</td><td>null</td><td>55</td><td>null</td><td>null</td><td>null</td><td>null</td></tr><tr><td>&quot;Missing&quot;</td><td>null</td><td>null</td><td>null</td><td>33</td><td>null</td><td>null</td><td>null</td><td>null</td><td>null</td><td>null</td><td>null</td><td>null</td><td>null</td><td>null</td><td>null</td><td>null</td><td>null</td></tr><tr><td>&quot;Asian or Asian British&quot;</td><td>null</td><td>null</td><td>null</td><td>null</td><td>114</td><td>null</td><td>null</td><td>null</td><td>null</td><td>null</td><td>null</td><td>32</td><td>null</td><td>15</td><td>null</td><td>16</td><td>null</td></tr><tr><td>&quot;Black or Black British&quot;</td><td>null</td><td>null</td><td>null</td><td>null</td><td>null</td><td>90</td><td>50</td><td>null</td><td>null</td><td>null</td><td>38</td><td>null</td><td>null</td><td>null</td><td>null</td><td>null</td><td>null</td></tr><tr><td>&quot;Mixed&quot;</td><td>null</td><td>null</td><td>null</td><td>null</td><td>null</td><td>null</td><td>null</td><td>null</td><td>47</td><td>12</td><td>null</td><td>null</td><td>null</td><td>null</td><td>10</td><td>null</td><td>8</td></tr></tbody></table></div>"
      ],
      "text/plain": [
       "shape: (6, 18)\n",
       "┌───────────┬───────────┬───────────┬───────────┬───┬───────────┬───────────┬───────────┬──────────┐\n",
       "│ ethnicity ┆ Other     ┆ White -   ┆ Other     ┆ … ┆ Asian or  ┆ Mixed -   ┆ Asian or  ┆ Mixed -  │\n",
       "│ _gp_and_s ┆ Ethnic    ┆ Any other ┆ Ethnic    ┆   ┆ Asian     ┆ White and ┆ Asian     ┆ White    │\n",
       "│ us_5_cate ┆ Groups -  ┆ White bac ┆ Groups -  ┆   ┆ British - ┆ Black     ┆ British - ┆ and      │\n",
       "│ gory      ┆ Any other ┆ kground   ┆ Chinese   ┆   ┆ Banglades ┆ Caribbean ┆ Pakistani ┆ Asian    │\n",
       "│ ---       ┆ ethnic    ┆ ---       ┆ ---       ┆   ┆ hi        ┆ ---       ┆ ---       ┆ ---      │\n",
       "│ cat       ┆ group     ┆ i32       ┆ i32       ┆   ┆ ---       ┆ i32       ┆ i32       ┆ i32      │\n",
       "│           ┆ ---       ┆           ┆           ┆   ┆ i32       ┆           ┆           ┆          │\n",
       "│           ┆ i32       ┆           ┆           ┆   ┆           ┆           ┆           ┆          │\n",
       "╞═══════════╪═══════════╪═══════════╪═══════════╪═══╪═══════════╪═══════════╪═══════════╪══════════╡\n",
       "│ Chinese   ┆ 233       ┆ null      ┆ 17        ┆ … ┆ null      ┆ null      ┆ null      ┆ null     │\n",
       "│ or Other  ┆           ┆           ┆           ┆   ┆           ┆           ┆           ┆          │\n",
       "│ Ethnic    ┆           ┆           ┆           ┆   ┆           ┆           ┆           ┆          │\n",
       "│ Groups    ┆           ┆           ┆           ┆   ┆           ┆           ┆           ┆          │\n",
       "│ White     ┆ null      ┆ 201       ┆ null      ┆ … ┆ null      ┆ null      ┆ null      ┆ null     │\n",
       "│ Missing   ┆ null      ┆ null      ┆ null      ┆ … ┆ null      ┆ null      ┆ null      ┆ null     │\n",
       "│ Asian or  ┆ null      ┆ null      ┆ null      ┆ … ┆ 15        ┆ null      ┆ 16        ┆ null     │\n",
       "│ Asian     ┆           ┆           ┆           ┆   ┆           ┆           ┆           ┆          │\n",
       "│ British   ┆           ┆           ┆           ┆   ┆           ┆           ┆           ┆          │\n",
       "│ Black or  ┆ null      ┆ null      ┆ null      ┆ … ┆ null      ┆ null      ┆ null      ┆ null     │\n",
       "│ Black     ┆           ┆           ┆           ┆   ┆           ┆           ┆           ┆          │\n",
       "│ British   ┆           ┆           ┆           ┆   ┆           ┆           ┆           ┆          │\n",
       "│ Mixed     ┆ null      ┆ null      ┆ null      ┆ … ┆ null      ┆ 10        ┆ null      ┆ 8        │\n",
       "└───────────┴───────────┴───────────┴───────────┴───┴───────────┴───────────┴───────────┴──────────┘"
      ]
     },
     "metadata": {},
     "output_type": "display_data"
    }
   ],
   "source": [
    "lib.do_all_crosstabs(dataset)"
   ]
  }
 ],
 "metadata": {
  "kernelspec": {
   "display_name": "Python 3 (ipykernel)",
   "language": "python",
   "name": "python3"
  },
  "language_info": {
   "codemirror_mode": {
    "name": "ipython",
    "version": 3
   },
   "file_extension": ".py",
   "mimetype": "text/x-python",
   "name": "python",
   "nbconvert_exporter": "python",
   "pygments_lexer": "ipython3",
   "version": "3.10.4"
  }
 },
 "nbformat": 4,
 "nbformat_minor": 4
}
